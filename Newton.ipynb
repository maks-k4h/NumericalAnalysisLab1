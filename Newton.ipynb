{
 "cells": [
  {
   "cell_type": "code",
   "execution_count": 1,
   "metadata": {
    "collapsed": true
   },
   "outputs": [],
   "source": [
    "import math"
   ]
  },
  {
   "cell_type": "code",
   "execution_count": 10,
   "outputs": [],
   "source": [
    "def newton(foo, dfoodx, x0, m1, M2, eps0, eps):\n",
    "    \"\"\"\n",
    "\n",
    "    :param foo: callable function\n",
    "    :param dfoodx: the derivative of foo\n",
    "    :param x0: initial root approximation\n",
    "    :param m1: min abs of foo'(x) on the interval of interest\n",
    "    :param M2: max abs of foo''(x) on the interval of interest\n",
    "    :param eps0: initial error upper bound\n",
    "    :param eps: required precision\n",
    "    :return:\n",
    "    \"\"\"\n",
    "\n",
    "    q = M2 * eps0 / (2 * m1)\n",
    "    n_prior = math.floor(math.log2( math.log(eps0/eps) / math.log(1/q) ) + 1) + 1\n",
    "\n",
    "    print('q: ', q)\n",
    "    print('n0:', n_prior)\n",
    "    print()\n",
    "\n",
    "    n_posterior = n_prior\n",
    "    x = x0\n",
    "\n",
    "    for i in range(n_prior):\n",
    "        x_new = x - foo(x) / dfoodx(x)\n",
    "\n",
    "        if abs(x_new - x) < eps * (1-q)/q:\n",
    "            n_posterior = min(i + 1, n_posterior)\n",
    "\n",
    "        x = x_new\n",
    "        print('Iteration %2d:' % (i + 1), x)\n",
    "\n",
    "    print()\n",
    "    print('np:', n_posterior)"
   ],
   "metadata": {
    "collapsed": false
   }
  },
  {
   "cell_type": "code",
   "execution_count": 11,
   "outputs": [],
   "source": [
    "def foo(x):\n",
    "    return x**3+4*x-6\n",
    "\n",
    "def dfoodx(x):\n",
    "    return 3*(x**2) +4"
   ],
   "metadata": {
    "collapsed": false
   }
  },
  {
   "cell_type": "code",
   "execution_count": 12,
   "outputs": [],
   "source": [
    "# parameters\n",
    "x0      = 1.5\n",
    "m1      = 7\n",
    "M2      = 12\n",
    "eps     = 1e-4\n",
    "eps0    = .5"
   ],
   "metadata": {
    "collapsed": false
   }
  },
  {
   "cell_type": "code",
   "execution_count": 13,
   "outputs": [
    {
     "name": "stdout",
     "output_type": "stream",
     "text": [
      "q:  0.42857142857142855\n",
      "n0: 5\n",
      "\n",
      "Iteration  1: 1.1860465116279069\n",
      "Iteration  2: 1.1358519608848197\n",
      "Iteration  3: 1.1347289996862175\n",
      "Iteration  4: 1.134728453361975\n",
      "Iteration  5: 1.1347284533618458\n",
      "\n",
      "np: 4\n"
     ]
    }
   ],
   "source": [
    "newton(foo, dfoodx, x0, m1, M2, eps0, eps)"
   ],
   "metadata": {
    "collapsed": false
   }
  },
  {
   "cell_type": "code",
   "execution_count": null,
   "outputs": [],
   "source": [],
   "metadata": {
    "collapsed": false
   }
  }
 ],
 "metadata": {
  "kernelspec": {
   "display_name": "Python 3",
   "language": "python",
   "name": "python3"
  },
  "language_info": {
   "codemirror_mode": {
    "name": "ipython",
    "version": 2
   },
   "file_extension": ".py",
   "mimetype": "text/x-python",
   "name": "python",
   "nbconvert_exporter": "python",
   "pygments_lexer": "ipython2",
   "version": "2.7.6"
  }
 },
 "nbformat": 4,
 "nbformat_minor": 0
}
