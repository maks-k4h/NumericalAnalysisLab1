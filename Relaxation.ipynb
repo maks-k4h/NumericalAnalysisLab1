{
 "cells": [
  {
   "cell_type": "code",
   "execution_count": 29,
   "outputs": [],
   "source": [
    "import math"
   ],
   "metadata": {
    "collapsed": false
   }
  },
  {
   "cell_type": "code",
   "execution_count": 80,
   "metadata": {
    "collapsed": true
   },
   "outputs": [],
   "source": [
    "def relaxation(f, M1, m1, x0, eps0, eps, increasing):\n",
    "    \"\"\"\n",
    "    Find a root for f(x) = 0;\n",
    "\n",
    "    :param f: callable function\n",
    "    :param M1: max abs of f'(x) on the interval of interest\n",
    "    :param m1: min abs of f'(x) on the interval of interest\n",
    "    :param x0: initial root approximation\n",
    "    :param eps0: initial error upper bound\n",
    "    :param eps: required precision\n",
    "    :param increasing: True if a function in increasing (non-decreasing)\n",
    "    :return: None\n",
    "    \"\"\"\n",
    "\n",
    "    tau = 2 / (M1 + m1)\n",
    "    q = (M1 - m1) / (M1 + m1)\n",
    "\n",
    "    def phi(x):\n",
    "        if increasing:\n",
    "            return x - tau * f(x)\n",
    "        else:\n",
    "            return x + tau * f(x)\n",
    "\n",
    "    n_prior = math.floor( math.log(eps0/eps) / math.log(1 / q) ) + 1\n",
    "\n",
    "    print('tau:', tau)\n",
    "    print('q:\\t', q)\n",
    "    print('n0:\\t', n_prior)\n",
    "    print()\n",
    "\n",
    "    n_posterior = n_prior\n",
    "    x = x0\n",
    "\n",
    "    for i in range(n_prior):\n",
    "        x_new = phi(x)\n",
    "\n",
    "        if math.fabs(x_new - x) < eps * (1-q)/q:\n",
    "            n_posterior = min(i + 1, n_posterior)\n",
    "\n",
    "        x = x_new\n",
    "        print('iteration %2d:' % (i + 1),x)\n",
    "\n",
    "    print()\n",
    "    print('np:\\t', n_posterior)\n",
    "    print('xn:\\t', x)\n",
    "\n",
    "\n"
   ]
  },
  {
   "cell_type": "code",
   "execution_count": 81,
   "outputs": [],
   "source": [
    "def func(x):\n",
    "    return x**3 + 4*x - 6"
   ],
   "metadata": {
    "collapsed": false
   }
  },
  {
   "cell_type": "code",
   "execution_count": 82,
   "outputs": [],
   "source": [
    "# Initial parameters\n",
    "M1      = 16\n",
    "m1      = 7\n",
    "x0      = 1.5\n",
    "eps0    = .5\n",
    "eps     = 1e-4"
   ],
   "metadata": {
    "collapsed": false
   }
  },
  {
   "cell_type": "code",
   "execution_count": 83,
   "outputs": [
    {
     "name": "stdout",
     "output_type": "stream",
     "text": [
      "tau: 0.08695652173913043\n",
      "q:\t 0.391304347826087\n",
      "n0:\t 10\n",
      "\n",
      "iteration  1: 1.2065217391304348\n",
      "iteration  2: 1.1558770203436952\n",
      "iteration  3: 1.1412840183091757\n",
      "iteration  4: 1.1367890753090188\n",
      "iteration  5: 1.1353789209373724\n",
      "iteration  6: 1.1349340553746678\n",
      "iteration  7: 1.1347934678302523\n",
      "iteration  8: 1.1347490146266712\n",
      "iteration  9: 1.1347349562713138\n",
      "iteration 10: 1.1347305100635292\n",
      "\n",
      "np:\t 7\n",
      "xn:\t 1.1347305100635292\n"
     ]
    }
   ],
   "source": [
    "relaxation(func, M1, m1, x0, eps0, eps, True)"
   ],
   "metadata": {
    "collapsed": false
   }
  },
  {
   "cell_type": "code",
   "execution_count": null,
   "outputs": [],
   "source": [],
   "metadata": {
    "collapsed": false
   }
  }
 ],
 "metadata": {
  "kernelspec": {
   "display_name": "Python 3",
   "language": "python",
   "name": "python3"
  },
  "language_info": {
   "codemirror_mode": {
    "name": "ipython",
    "version": 2
   },
   "file_extension": ".py",
   "mimetype": "text/x-python",
   "name": "python",
   "nbconvert_exporter": "python",
   "pygments_lexer": "ipython2",
   "version": "2.7.6"
  }
 },
 "nbformat": 4,
 "nbformat_minor": 0
}
