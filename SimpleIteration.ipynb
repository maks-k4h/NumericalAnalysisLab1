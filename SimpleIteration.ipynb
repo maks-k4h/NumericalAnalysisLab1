{
 "cells": [
  {
   "cell_type": "code",
   "execution_count": 11,
   "outputs": [],
   "source": [
    "import math"
   ],
   "metadata": {
    "collapsed": false
   }
  },
  {
   "cell_type": "code",
   "execution_count": 32,
   "outputs": [],
   "source": [
    "def simple_iteration(phi, x0, q, eps):\n",
    "    \"\"\"\n",
    "\n",
    "    :param phi: callable function\n",
    "    :param x0: initial estimate\n",
    "    :param q: max abs of phi'(x) on the interval of interest\n",
    "    :param eps: required precision\n",
    "    :return:\n",
    "    \"\"\"\n",
    "\n",
    "    n_prior = math.floor( math.log(abs(phi(x0) - x0) / ((1 - q)*eps)) / math.log(1/q) ) + 1\n",
    "    print(\"n0:\", n_prior)\n",
    "    print()\n",
    "\n",
    "    n_posterior = n_prior\n",
    "    x = x0\n",
    "\n",
    "    for i in range(n_prior):\n",
    "        x_new = phi(x)\n",
    "\n",
    "        if abs(x_new - x) < eps * (1-q)/q:\n",
    "            n_posterior = min(i + 1, n_posterior)\n",
    "\n",
    "        x = x_new\n",
    "        print('Iteration %2d:' % (i + 1),x)\n",
    "\n",
    "    print()\n",
    "    print('np:\\t', n_posterior)\n",
    "    print('xn:\\t', x)"
   ],
   "metadata": {
    "collapsed": false
   }
  },
  {
   "cell_type": "code",
   "execution_count": 33,
   "outputs": [],
   "source": [
    "def func(x):\n",
    "    return x - (x**3 + 4*x - 6) / (7*x)"
   ],
   "metadata": {
    "collapsed": false
   }
  },
  {
   "cell_type": "code",
   "execution_count": 34,
   "outputs": [],
   "source": [
    "# Parameters\n",
    "q   = 0.222\n",
    "x0  = 1.5\n",
    "eps = 1e-4"
   ],
   "metadata": {
    "collapsed": false
   }
  },
  {
   "cell_type": "code",
   "execution_count": 35,
   "outputs": [
    {
     "name": "stdout",
     "output_type": "stream",
     "text": [
      "n0: 6\n",
      "\n",
      "Iteration  1: 1.1785714285714286\n",
      "Iteration  2: 1.1359826398091704\n",
      "Iteration  3: 1.134741825262046\n",
      "Iteration  4: 1.1347285885779994\n",
      "Iteration  5: 1.1347284547283523\n",
      "Iteration  6: 1.1347284533756559\n",
      "\n",
      "np:\t 4\n",
      "xn:\t 1.1347284533756559\n"
     ]
    }
   ],
   "source": [
    "simple_iteration(func, x0, q, eps)"
   ],
   "metadata": {
    "collapsed": false
   }
  },
  {
   "cell_type": "code",
   "execution_count": null,
   "outputs": [],
   "source": [],
   "metadata": {
    "collapsed": false
   }
  }
 ],
 "metadata": {
  "kernelspec": {
   "display_name": "Python 3",
   "language": "python",
   "name": "python3"
  },
  "language_info": {
   "codemirror_mode": {
    "name": "ipython",
    "version": 2
   },
   "file_extension": ".py",
   "mimetype": "text/x-python",
   "name": "python",
   "nbconvert_exporter": "python",
   "pygments_lexer": "ipython2",
   "version": "2.7.6"
  }
 },
 "nbformat": 4,
 "nbformat_minor": 0
}
